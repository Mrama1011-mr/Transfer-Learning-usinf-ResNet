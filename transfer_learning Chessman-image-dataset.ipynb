{
  "nbformat": 4,
  "nbformat_minor": 0,
  "metadata": {
    "colab": {
      "provenance": []
    },
    "kernelspec": {
      "name": "python3",
      "display_name": "Python 3"
    },
    "language_info": {
      "name": "python"
    }
  },
  "cells": [
    {
      "cell_type": "code",
      "execution_count": null,
      "metadata": {
        "colab": {
          "base_uri": "https://localhost:8080/"
        },
        "id": "OPveDGWS8lbx",
        "outputId": "23d34621-3a4c-455d-90de-b6f558d0db89"
      },
      "outputs": [
        {
          "output_type": "stream",
          "name": "stdout",
          "text": [
            "--2022-08-31 12:50:36--  https://github.com/dicodingacademy/assets/raw/main/ml_pengembangan_academy/Chessman-image-dataset.zip\n",
            "Resolving github.com (github.com)... 140.82.114.3\n",
            "Connecting to github.com (github.com)|140.82.114.3|:443... connected.\n",
            "HTTP request sent, awaiting response... 302 Found\n",
            "Location: https://raw.githubusercontent.com/dicodingacademy/assets/main/ml_pengembangan_academy/Chessman-image-dataset.zip [following]\n",
            "--2022-08-31 12:50:36--  https://raw.githubusercontent.com/dicodingacademy/assets/main/ml_pengembangan_academy/Chessman-image-dataset.zip\n",
            "Resolving raw.githubusercontent.com (raw.githubusercontent.com)... 185.199.109.133, 185.199.108.133, 185.199.111.133, ...\n",
            "Connecting to raw.githubusercontent.com (raw.githubusercontent.com)|185.199.109.133|:443... connected.\n",
            "HTTP request sent, awaiting response... 200 OK\n",
            "Length: 60684125 (58M) [application/zip]\n",
            "Saving to: ‘/tmp/Chessman-image-dataset.zip’\n",
            "\n",
            "/tmp/Chessman-image 100%[===================>]  57.87M   213MB/s    in 0.3s    \n",
            "\n",
            "2022-08-31 12:50:37 (213 MB/s) - ‘/tmp/Chessman-image-dataset.zip’ saved [60684125/60684125]\n",
            "\n"
          ]
        }
      ],
      "source": [
        "!wget --no-check-certificate \\\n",
        "  https://github.com/dicodingacademy/assets/raw/main/ml_pengembangan_academy/Chessman-image-dataset.zip \\\n",
        "  -O /tmp/Chessman-image-dataset.zip"
      ]
    },
    {
      "cell_type": "code",
      "source": [
        "import os\n",
        "import zipfile\n",
        "from tensorflow.keras.preprocessing.image import ImageDataGenerator"
      ],
      "metadata": {
        "id": "VVG3UpdB8stH"
      },
      "execution_count": null,
      "outputs": []
    },
    {
      "cell_type": "code",
      "source": [
        "local_zip = '/tmp/Chessman-image-dataset.zip'\n",
        "zip_ref = zipfile.ZipFile(local_zip, 'r')\n",
        "zip_ref.extractall('/tmp')\n",
        "zip_ref.close()"
      ],
      "metadata": {
        "id": "QmQq-2j08uuX"
      },
      "execution_count": null,
      "outputs": []
    },
    {
      "cell_type": "code",
      "source": [
        "train_dir = os.path.join('/tmp/Chessman-image-dataset/Chess')"
      ],
      "metadata": {
        "id": "XKPrOvwb8wOo"
      },
      "execution_count": null,
      "outputs": []
    },
    {
      "cell_type": "code",
      "source": [
        "train_datagen = ImageDataGenerator(rescale=1./255,\n",
        "    rotation_range=20,\n",
        "    zoom_range=0.2,\n",
        "    shear_range=0.2,\n",
        "    fill_mode = 'nearest',\n",
        "    validation_split=0.1) # set validation split"
      ],
      "metadata": {
        "id": "jFq5lPY_8x5o"
      },
      "execution_count": null,
      "outputs": []
    },
    {
      "cell_type": "code",
      "source": [
        "train_generator = train_datagen.flow_from_directory(\n",
        "    train_dir,\n",
        "    target_size=(150, 150),\n",
        "    batch_size=8,\n",
        "    class_mode='categorical',\n",
        "    subset='training') # set as training data\n",
        "validation_generator = train_datagen.flow_from_directory(\n",
        "    train_dir, # same directory as training data\n",
        "    target_size=(150, 150),\n",
        "    batch_size=16,\n",
        "    class_mode='categorical',\n",
        "    subset='validation')"
      ],
      "metadata": {
        "colab": {
          "base_uri": "https://localhost:8080/"
        },
        "id": "66uUenZr8zgw",
        "outputId": "457e1fce-0f7c-4649-9d33-3235eb558e15"
      },
      "execution_count": null,
      "outputs": [
        {
          "output_type": "stream",
          "name": "stdout",
          "text": [
            "Found 499 images belonging to 6 classes.\n",
            "Found 52 images belonging to 6 classes.\n"
          ]
        }
      ]
    },
    {
      "cell_type": "code",
      "source": [
        "import tensorflow as tf\n",
        "from tensorflow.keras.layers import Input\n",
        "from tensorflow.keras.applications import ResNet50\n",
        "from tensorflow.keras.applications import ResNet152V2"
      ],
      "metadata": {
        "id": "7sT8n7mP82Q-"
      },
      "execution_count": null,
      "outputs": []
    },
    {
      "cell_type": "code",
      "source": [
        "model = tf.keras.models.Sequential([\n",
        "    ResNet152V2(weights=\"imagenet\", include_top=False, input_tensor=Input(shape=(150, 150, 3))),\n",
        "    # tf.keras.layers.Dropout(0.4),\n",
        "    tf.keras.layers.Flatten(),\n",
        "    tf.keras.layers.Dense(512, activation='relu'),\n",
        "    tf.keras.layers.Dense(256, activation='relu'),\n",
        "    tf.keras.layers.Dense(6, activation='softmax')\n",
        "])\n",
        "model.layers[0].trainable = False"
      ],
      "metadata": {
        "colab": {
          "base_uri": "https://localhost:8080/"
        },
        "id": "ajqnham_833f",
        "outputId": "57fd86cc-d01f-4e27-f87a-3e4feae093f4"
      },
      "execution_count": null,
      "outputs": [
        {
          "output_type": "stream",
          "name": "stdout",
          "text": [
            "Downloading data from https://storage.googleapis.com/tensorflow/keras-applications/resnet/resnet152v2_weights_tf_dim_ordering_tf_kernels_notop.h5\n",
            "234553344/234545216 [==============================] - 1s 0us/step\n",
            "234561536/234545216 [==============================] - 1s 0us/step\n"
          ]
        }
      ]
    },
    {
      "cell_type": "code",
      "source": [
        "model.compile(optimizer=tf.optimizers.Adam(),\n",
        "              loss='categorical_crossentropy',\n",
        "              metrics = ['accuracy'])"
      ],
      "metadata": {
        "id": "SzFjrHE285y_"
      },
      "execution_count": null,
      "outputs": []
    },
    {
      "cell_type": "code",
      "source": [
        "history = model.fit(train_generator,\n",
        "                              validation_data=validation_generator,\n",
        "                              epochs=50,\n",
        "                              verbose=2)"
      ],
      "metadata": {
        "colab": {
          "base_uri": "https://localhost:8080/"
        },
        "id": "gwN5RB_P88G3",
        "outputId": "6e83300a-3963-420c-cceb-670229c74d9d"
      },
      "execution_count": null,
      "outputs": [
        {
          "output_type": "stream",
          "name": "stdout",
          "text": [
            "Epoch 1/50\n",
            "63/63 - 140s - loss: 8.3480 - accuracy: 0.4469 - val_loss: 2.6014 - val_accuracy: 0.5962 - 140s/epoch - 2s/step\n",
            "Epoch 2/50\n",
            "63/63 - 127s - loss: 1.8425 - accuracy: 0.6733 - val_loss: 2.5176 - val_accuracy: 0.5769 - 127s/epoch - 2s/step\n",
            "Epoch 3/50\n",
            "63/63 - 127s - loss: 1.0384 - accuracy: 0.7695 - val_loss: 0.9688 - val_accuracy: 0.7500 - 127s/epoch - 2s/step\n",
            "Epoch 4/50\n",
            "63/63 - 127s - loss: 1.1172 - accuracy: 0.7615 - val_loss: 1.6535 - val_accuracy: 0.6538 - 127s/epoch - 2s/step\n",
            "Epoch 5/50\n",
            "63/63 - 127s - loss: 0.6192 - accuracy: 0.8196 - val_loss: 1.6925 - val_accuracy: 0.7885 - 127s/epoch - 2s/step\n",
            "Epoch 6/50\n",
            "63/63 - 127s - loss: 0.7242 - accuracy: 0.8357 - val_loss: 1.1102 - val_accuracy: 0.6923 - 127s/epoch - 2s/step\n",
            "Epoch 7/50\n",
            "63/63 - 130s - loss: 0.4502 - accuracy: 0.8798 - val_loss: 0.8132 - val_accuracy: 0.7500 - 130s/epoch - 2s/step\n",
            "Epoch 8/50\n",
            "63/63 - 127s - loss: 0.5233 - accuracy: 0.8677 - val_loss: 0.8188 - val_accuracy: 0.7885 - 127s/epoch - 2s/step\n",
            "Epoch 9/50\n",
            "63/63 - 126s - loss: 0.7618 - accuracy: 0.8697 - val_loss: 3.5533 - val_accuracy: 0.5577 - 126s/epoch - 2s/step\n",
            "Epoch 10/50\n",
            "63/63 - 127s - loss: 0.6316 - accuracy: 0.8517 - val_loss: 1.3144 - val_accuracy: 0.7308 - 127s/epoch - 2s/step\n",
            "Epoch 11/50\n",
            "63/63 - 127s - loss: 0.3511 - accuracy: 0.8838 - val_loss: 1.1024 - val_accuracy: 0.8077 - 127s/epoch - 2s/step\n",
            "Epoch 12/50\n",
            "63/63 - 127s - loss: 0.5202 - accuracy: 0.8657 - val_loss: 1.0691 - val_accuracy: 0.8462 - 127s/epoch - 2s/step\n",
            "Epoch 13/50\n",
            "63/63 - 127s - loss: 0.5565 - accuracy: 0.8898 - val_loss: 1.1550 - val_accuracy: 0.7500 - 127s/epoch - 2s/step\n",
            "Epoch 14/50\n",
            "63/63 - 127s - loss: 0.3717 - accuracy: 0.9118 - val_loss: 1.2126 - val_accuracy: 0.7308 - 127s/epoch - 2s/step\n",
            "Epoch 15/50\n",
            "63/63 - 127s - loss: 0.5087 - accuracy: 0.9058 - val_loss: 0.8837 - val_accuracy: 0.7308 - 127s/epoch - 2s/step\n",
            "Epoch 16/50\n",
            "63/63 - 127s - loss: 0.2759 - accuracy: 0.9339 - val_loss: 1.4198 - val_accuracy: 0.7500 - 127s/epoch - 2s/step\n",
            "Epoch 17/50\n",
            "63/63 - 127s - loss: 0.3555 - accuracy: 0.9138 - val_loss: 1.1998 - val_accuracy: 0.7308 - 127s/epoch - 2s/step\n",
            "Epoch 18/50\n",
            "63/63 - 126s - loss: 0.3995 - accuracy: 0.9078 - val_loss: 1.0886 - val_accuracy: 0.7692 - 126s/epoch - 2s/step\n",
            "Epoch 19/50\n",
            "63/63 - 127s - loss: 0.6436 - accuracy: 0.8858 - val_loss: 0.6836 - val_accuracy: 0.8077 - 127s/epoch - 2s/step\n",
            "Epoch 20/50\n",
            "63/63 - 127s - loss: 0.3600 - accuracy: 0.9198 - val_loss: 0.9177 - val_accuracy: 0.8077 - 127s/epoch - 2s/step\n",
            "Epoch 21/50\n",
            "63/63 - 127s - loss: 0.1962 - accuracy: 0.9559 - val_loss: 0.9442 - val_accuracy: 0.7692 - 127s/epoch - 2s/step\n",
            "Epoch 22/50\n",
            "63/63 - 127s - loss: 0.2126 - accuracy: 0.9439 - val_loss: 2.2965 - val_accuracy: 0.7115 - 127s/epoch - 2s/step\n",
            "Epoch 23/50\n",
            "63/63 - 127s - loss: 0.3694 - accuracy: 0.9178 - val_loss: 1.2956 - val_accuracy: 0.7885 - 127s/epoch - 2s/step\n",
            "Epoch 24/50\n",
            "63/63 - 127s - loss: 0.2617 - accuracy: 0.9479 - val_loss: 1.7473 - val_accuracy: 0.8077 - 127s/epoch - 2s/step\n",
            "Epoch 25/50\n",
            "63/63 - 126s - loss: 0.3457 - accuracy: 0.9178 - val_loss: 2.5981 - val_accuracy: 0.6731 - 126s/epoch - 2s/step\n",
            "Epoch 26/50\n",
            "63/63 - 126s - loss: 0.5589 - accuracy: 0.9198 - val_loss: 0.9693 - val_accuracy: 0.8269 - 126s/epoch - 2s/step\n",
            "Epoch 27/50\n",
            "63/63 - 127s - loss: 0.5059 - accuracy: 0.9138 - val_loss: 0.7220 - val_accuracy: 0.8269 - 127s/epoch - 2s/step\n",
            "Epoch 28/50\n",
            "63/63 - 127s - loss: 0.3098 - accuracy: 0.9359 - val_loss: 2.3399 - val_accuracy: 0.6538 - 127s/epoch - 2s/step\n",
            "Epoch 29/50\n",
            "63/63 - 127s - loss: 0.3092 - accuracy: 0.9419 - val_loss: 1.1561 - val_accuracy: 0.7692 - 127s/epoch - 2s/step\n",
            "Epoch 30/50\n",
            "63/63 - 127s - loss: 0.0860 - accuracy: 0.9699 - val_loss: 0.7735 - val_accuracy: 0.8269 - 127s/epoch - 2s/step\n",
            "Epoch 31/50\n",
            "63/63 - 127s - loss: 0.1741 - accuracy: 0.9539 - val_loss: 1.2412 - val_accuracy: 0.8269 - 127s/epoch - 2s/step\n",
            "Epoch 32/50\n",
            "63/63 - 127s - loss: 0.2242 - accuracy: 0.9399 - val_loss: 1.2210 - val_accuracy: 0.8077 - 127s/epoch - 2s/step\n",
            "Epoch 33/50\n",
            "63/63 - 126s - loss: 0.2583 - accuracy: 0.9519 - val_loss: 0.5209 - val_accuracy: 0.8462 - 126s/epoch - 2s/step\n",
            "Epoch 34/50\n",
            "63/63 - 127s - loss: 0.1331 - accuracy: 0.9719 - val_loss: 0.9073 - val_accuracy: 0.8077 - 127s/epoch - 2s/step\n",
            "Epoch 35/50\n",
            "63/63 - 127s - loss: 0.1109 - accuracy: 0.9599 - val_loss: 1.8104 - val_accuracy: 0.7692 - 127s/epoch - 2s/step\n",
            "Epoch 36/50\n",
            "63/63 - 127s - loss: 0.2080 - accuracy: 0.9659 - val_loss: 1.1455 - val_accuracy: 0.7692 - 127s/epoch - 2s/step\n",
            "Epoch 37/50\n",
            "63/63 - 127s - loss: 0.0707 - accuracy: 0.9800 - val_loss: 2.3628 - val_accuracy: 0.6731 - 127s/epoch - 2s/step\n",
            "Epoch 38/50\n",
            "63/63 - 127s - loss: 0.1213 - accuracy: 0.9619 - val_loss: 1.4618 - val_accuracy: 0.7692 - 127s/epoch - 2s/step\n",
            "Epoch 39/50\n",
            "63/63 - 126s - loss: 0.1651 - accuracy: 0.9459 - val_loss: 0.7946 - val_accuracy: 0.8462 - 126s/epoch - 2s/step\n",
            "Epoch 40/50\n",
            "63/63 - 128s - loss: 0.1332 - accuracy: 0.9539 - val_loss: 1.0760 - val_accuracy: 0.8077 - 128s/epoch - 2s/step\n",
            "Epoch 41/50\n",
            "63/63 - 128s - loss: 0.2555 - accuracy: 0.9299 - val_loss: 0.7400 - val_accuracy: 0.8462 - 128s/epoch - 2s/step\n",
            "Epoch 42/50\n",
            "63/63 - 128s - loss: 0.2228 - accuracy: 0.9559 - val_loss: 0.7864 - val_accuracy: 0.8269 - 128s/epoch - 2s/step\n",
            "Epoch 43/50\n",
            "63/63 - 127s - loss: 0.1390 - accuracy: 0.9719 - val_loss: 1.6242 - val_accuracy: 0.7500 - 127s/epoch - 2s/step\n",
            "Epoch 44/50\n",
            "63/63 - 128s - loss: 0.1641 - accuracy: 0.9659 - val_loss: 0.9277 - val_accuracy: 0.8269 - 128s/epoch - 2s/step\n",
            "Epoch 45/50\n",
            "63/63 - 127s - loss: 0.1742 - accuracy: 0.9579 - val_loss: 1.2630 - val_accuracy: 0.7500 - 127s/epoch - 2s/step\n",
            "Epoch 46/50\n",
            "63/63 - 126s - loss: 0.2375 - accuracy: 0.9499 - val_loss: 2.6105 - val_accuracy: 0.7308 - 126s/epoch - 2s/step\n",
            "Epoch 47/50\n",
            "63/63 - 127s - loss: 0.2335 - accuracy: 0.9659 - val_loss: 1.5150 - val_accuracy: 0.7885 - 127s/epoch - 2s/step\n",
            "Epoch 48/50\n",
            "63/63 - 128s - loss: 0.0535 - accuracy: 0.9840 - val_loss: 1.1667 - val_accuracy: 0.8462 - 128s/epoch - 2s/step\n",
            "Epoch 49/50\n",
            "63/63 - 128s - loss: 0.0897 - accuracy: 0.9780 - val_loss: 1.8380 - val_accuracy: 0.7500 - 128s/epoch - 2s/step\n",
            "Epoch 50/50\n",
            "63/63 - 128s - loss: 0.0890 - accuracy: 0.9760 - val_loss: 1.2972 - val_accuracy: 0.7500 - 128s/epoch - 2s/step\n"
          ]
        }
      ]
    }
  ]
}